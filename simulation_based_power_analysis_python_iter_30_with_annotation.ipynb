{
 "cells": [
  {
   "cell_type": "markdown",
   "metadata": {},
   "source": [
    "# 5.1 Setup\n",
    "\n",
    "### 说明：此环节有两处与R语言不同：\n",
    "### 1. R语言使用p_load函数来自动安装缺失库以及导入库，Python语言需要手动配置环境，如果缺失库，可以使用   ! pip install [package_name]  来安装；\n",
    "### 2. R语言在setup环节设置了并行，Python语言在这个环节没有进行设置，而是在后续使用dask包来进行并行计算。"
   ]
  },
  {
   "cell_type": "markdown",
   "metadata": {},
   "source": [
    "We will need to use several Python packages to optimize our workflow and fit mixed effects models. "
   ]
  },
  {
   "cell_type": "code",
   "execution_count": 1,
   "metadata": {},
   "outputs": [],
   "source": [
    "import statsmodels.formula.api as smf\n",
    "import numpy as np\n",
    "import pandas as pd\n",
    "import seaborn as sns\n",
    "import matplotlib.pyplot as plt\n",
    "import dask\n",
    "import time\n",
    "\n",
    "from dask.distributed import Client\n",
    "from itertools import product"
   ]
  },
  {
   "cell_type": "markdown",
   "metadata": {},
   "source": [
    "We will also set the pseudo-random number generator seed to 2138 to make the stochastic components of our simulations reproducible."
   ]
  },
  {
   "cell_type": "code",
   "execution_count": 2,
   "metadata": {},
   "outputs": [],
   "source": [
    "np.random.seed(2138)"
   ]
  },
  {
   "cell_type": "markdown",
   "metadata": {},
   "source": [
    "# 5.2 Data simulation step by step\n",
    "\n",
    "### 说明：此环节有两处与R语言不同：\n",
    "### 1. 模型不同，没有体现主体的随机截距和随机斜率之间的相关性；\n",
    "### 2. 没有使用类似R语言的broom.mixed::tidy()函数来呈现模型拟合结果。"
   ]
  },
  {
   "cell_type": "markdown",
   "metadata": {},
   "source": [
    "To give an overview of the power simulation task, we will simulate data from a design with crossed random factors of subjects and songs (see Power of What? for design details), fit a model to the simulated data, recover from the model output the parameter values we put in, calculate power, and finally automate the whole process so that we can calculate power for different effect sizes. Much of the general workflow here is borrowed from DeBruine & Dale (2021) Understanding Mixed-Effects Models through Simulation. We’ll start by writing code that simulates datasets under the alternative hypothesis."
   ]
  },
  {
   "cell_type": "markdown",
   "metadata": {},
   "source": [
    "## 5.2.1 Establish the simulation parameters\n",
    "\n",
    "Before we start, let’s set some global parameters for our power simulations. Since simulations can take a long time to run, we’ll use 30 replications here as an example, but we recommend increasing this number to at least 1000 replications for a more accurate final power calculation."
   ]
  },
  {
   "cell_type": "code",
   "execution_count": 3,
   "metadata": {},
   "outputs": [],
   "source": [
    "# number of simulation replicates for power calculation\n",
    "reps = 30\n",
    "\n",
    "# specified alpha for power calculation\n",
    "alpha = 0.05"
   ]
  },
  {
   "cell_type": "markdown",
   "metadata": {},
   "source": [
    "## 5.2.2 Establish the data-generating parameters\n",
    "\n",
    "The first thing to do is to set up the parameters that govern the process we assume gave rise to the data - the data-generating process, or DGP. We previously decided upon the the data-generating parameters (see Power of What?), so we just need to code them here."
   ]
  },
  {
   "cell_type": "code",
   "execution_count": 4,
   "metadata": {},
   "outputs": [],
   "source": [
    "# set all data-generating parameters\n",
    "beta_0 = 60  # intercept; i.e., the grand mean\n",
    "beta_1 = 5   # slope; i.e, effect of category\n",
    "omega_0 = 3  # by-song random intercept sd\n",
    "tau_0 = 7    # by-subject random intercept sd\n",
    "tau_1 = 4    # by-subject random slope sd\n",
    "rho = 0.2    # correlation between intercept and slope\n",
    "sigma = 8    # residual (error) sd"
   ]
  },
  {
   "cell_type": "markdown",
   "metadata": {},
   "source": [
    "## 5.2.3 Simulate the sampling process\n",
    "\n",
    "Next, we will simulate the sampling process for the data. First, let’s define parameters related to the number of observations."
   ]
  },
  {
   "cell_type": "code",
   "execution_count": 5,
   "metadata": {},
   "outputs": [],
   "source": [
    "# set number of subjects and songs\n",
    "n_subj = 25  # number of subjects\n",
    "n_pop = 15   # number of songs in pop category\n",
    "n_rock = 15  # number of songs in rock category"
   ]
  },
  {
   "cell_type": "markdown",
   "metadata": {},
   "source": [
    "### 5.2.3.1 Simulate the sampling of songs\n",
    "\n",
    "We need to create a table listing each song \\(i\\), which category it is in (rock or pop), and its random effect \\(O_{0i}\\). The latter is sampled from a univariate normal distribution using the function np.random.normal()."
   ]
  },
  {
   "cell_type": "code",
   "execution_count": 6,
   "metadata": {},
   "outputs": [
    {
     "name": "stdout",
     "output_type": "stream",
     "text": [
      "   song_id category  genre_i      O_0i\n",
      "0        1      pop        0 -1.803722\n",
      "1        2      pop        0 -4.618354\n",
      "2        3      pop        0 -4.847097\n",
      "3        4      pop        0 -1.097951\n",
      "4        5      pop        0 -1.394909\n",
      "5        6      pop        0  2.424235\n",
      "6        7      pop        0 -3.956914\n",
      "7        8      pop        0  0.873891\n",
      "8        9      pop        0  3.318065\n",
      "9       10      pop        0  5.513671\n"
     ]
    }
   ],
   "source": [
    "# simulate a sample of songs\n",
    "songs = pd.DataFrame({\n",
    "    'song_id': range(1, n_pop + n_rock + 1),\n",
    "    'category': ['pop']*n_pop + ['rock']*n_rock,\n",
    "    'genre_i': [0]*n_pop + [1]*n_rock,\n",
    "    'O_0i': np.random.normal(0, omega_0, n_pop + n_rock)\n",
    "})\n",
    "\n",
    "print(songs.head(10))"
   ]
  },
  {
   "cell_type": "markdown",
   "metadata": {},
   "source": [
    "### 5.2.3.2 Simulate the sampling of subjects\n",
    "\n",
    "Now we simulate the sampling of participants, which results in table listing each individual and their two correlated random effects (a random intercept and random slope). To do this, we must sample \\({T_{0j}, T_{1j}}\\) pairs - one for each subject - from a bivariate normal distribution.\n",
    "\n",
    "We will use the function np.random.multivariate_normal(), which generates a table of n simulated values from a multivariate normal distribution by specifying the means and covariance matrix(cov)."
   ]
  },
  {
   "cell_type": "code",
   "execution_count": 7,
   "metadata": {},
   "outputs": [
    {
     "name": "stdout",
     "output_type": "stream",
     "text": [
      "        T_0j      T_1j  subj_id\n",
      "0  -0.547564 -2.796419        1\n",
      "1 -10.695092 -3.700622        2\n",
      "2   3.387493 -7.940628        3\n",
      "3   4.344241  0.531463        4\n",
      "4   6.461586  5.260280        5\n",
      "5 -12.373764 -1.387928        6\n",
      "6   0.352194 -3.990547        7\n",
      "7  -6.962734  2.358670        8\n",
      "8  -2.636463 -0.370637        9\n",
      "9   0.619930 -4.416671       10\n"
     ]
    }
   ],
   "source": [
    "# simulate a sample of subjects\n",
    "\n",
    "# sample from a multivariate normal distribution\n",
    "mean = [0, 0]  # means for random effects are always 0\n",
    "cov = [[tau_0**2, rho*tau_0*tau_1], [rho*tau_0*tau_1, tau_1**2]]  # set covariance matrix\n",
    "\n",
    "random_effects = np.random.multivariate_normal(mean, cov, n_subj)\n",
    "\n",
    "subjects = pd.DataFrame(random_effects, columns=['T_0j', 'T_1j'])\n",
    "subjects['subj_id'] = range(1, n_subj + 1) # add subject IDs\n",
    "\n",
    "print(subjects.head(10))"
   ]
  },
  {
   "cell_type": "markdown",
   "metadata": {},
   "source": [
    "### 5.2.3.3 Check the simulated values\n",
    "\n",
    "Let’s do a quick sanity check by comparing our simulated values to the parameters we used as inputs. Because the sampling process is stochastic, we shouldn’t expect that these will exactly match for any given run of the simulation."
   ]
  },
  {
   "cell_type": "code",
   "execution_count": 8,
   "metadata": {},
   "outputs": [
    {
     "name": "stdout",
     "output_type": "stream",
     "text": [
      "  parameter  value  simulated\n",
      "0   omega_0    3.0   3.372345\n",
      "1     tau_0    7.0   5.648262\n",
      "2     tau_1    4.0   4.439518\n",
      "3       rho    0.2   0.063860\n"
     ]
    }
   ],
   "source": [
    "check_values = pd.DataFrame({\n",
    "    'parameter': ['omega_0', 'tau_0', 'tau_1', 'rho'],\n",
    "    'value': [omega_0, tau_0, tau_1, rho],\n",
    "    'simulated': [songs['O_0i'].std(), subjects['T_0j'].std(), subjects['T_1j'].std(), subjects['T_0j'].corr(subjects['T_1j'])]\n",
    "})\n",
    "\n",
    "print(check_values)"
   ]
  },
  {
   "cell_type": "markdown",
   "metadata": {},
   "source": [
    "### 5.2.3.4 Simulate trials\n",
    "\n",
    "Since all subjects rate all songs (i.e., the design is fully crossed) we can set up a table of trials by including every possible combination of the rows in the subjects and songs tables. Each trial has random error associated with it, reflecting fluctuations in trial-by-trial ratings due to unkown factors. We simulate this by sampling values from a univariate normal distribution with a mean of 0 and a standard deviation of sigma."
   ]
  },
  {
   "cell_type": "code",
   "execution_count": 9,
   "metadata": {},
   "outputs": [
    {
     "name": "stdout",
     "output_type": "stream",
     "text": [
      "       T_0j      T_1j  subj_id  song_id category  genre_i      O_0i       e_ij\n",
      "0 -0.547564 -2.796419        1        1      pop        0 -1.803722   6.954841\n",
      "1 -0.547564 -2.796419        1        2      pop        0 -4.618354  -6.588163\n",
      "2 -0.547564 -2.796419        1        3      pop        0 -4.847097   5.226969\n",
      "3 -0.547564 -2.796419        1        4      pop        0 -1.097951 -11.285800\n",
      "4 -0.547564 -2.796419        1        5      pop        0 -1.394909   2.418785\n",
      "5 -0.547564 -2.796419        1        6      pop        0  2.424235  -7.579483\n",
      "6 -0.547564 -2.796419        1        7      pop        0 -3.956914  -2.553524\n",
      "7 -0.547564 -2.796419        1        8      pop        0  0.873891  12.726906\n",
      "8 -0.547564 -2.796419        1        9      pop        0  3.318065  -6.371494\n",
      "9 -0.547564 -2.796419        1       10      pop        0  5.513671  13.508966\n"
     ]
    }
   ],
   "source": [
    "# cross subject and song IDs; add an error term\n",
    "trials = subjects.assign(key=1).merge(songs.assign(key=1), on='key').drop(columns='key')\n",
    "trials['e_ij'] = np.random.normal(0, sigma, len(trials))\n",
    "\n",
    "print(trials.head(10))"
   ]
  },
  {
   "cell_type": "markdown",
   "metadata": {},
   "source": [
    "### 5.2.3.5 Calculate response values\n",
    "\n",
    "With this resulting trials table, in combination with the constants beta_0 and beta_1, we have the full set of values that we need to compute the response variable liking_ij according the linear model we defined previously (see Power of What?)."
   ]
  },
  {
   "cell_type": "code",
   "execution_count": 10,
   "metadata": {},
   "outputs": [
    {
     "name": "stdout",
     "output_type": "stream",
     "text": [
      "   subj_id  song_id category  genre_i  liking_ij\n",
      "0        1        1      pop        0  64.603556\n",
      "1        1        2      pop        0  48.245919\n",
      "2        1        3      pop        0  59.832308\n",
      "3        1        4      pop        0  47.068685\n",
      "4        1        5      pop        0  60.476312\n",
      "5        1        6      pop        0  54.297188\n",
      "6        1        7      pop        0  52.941998\n",
      "7        1        8      pop        0  73.053233\n",
      "8        1        9      pop        0  56.399007\n",
      "9        1       10      pop        0  78.475074\n"
     ]
    }
   ],
   "source": [
    "dat_sim = trials.copy()\n",
    "dat_sim['liking_ij'] = beta_0 + dat_sim['T_0j'] + dat_sim['O_0i'] + (beta_1 + dat_sim['T_1j']) * dat_sim['genre_i'] + dat_sim['e_ij']\n",
    "dat_sim = dat_sim[['subj_id', 'song_id', 'category', 'genre_i', 'liking_ij']]\n",
    "\n",
    "print(dat_sim.head(10))"
   ]
  },
  {
   "cell_type": "markdown",
   "metadata": {},
   "source": [
    "### 5.2.3.6 Plot the data\n",
    "\n",
    "Let’s visualize the distribution of the response variable for each of the two song genres and superimpose the simulated parameter estimates for the means of these two groups."
   ]
  },
  {
   "cell_type": "code",
   "execution_count": 11,
   "metadata": {},
   "outputs": [
    {
     "name": "stderr",
     "output_type": "stream",
     "text": [
      "C:\\Users\\DELL\\AppData\\Local\\Temp\\ipykernel_10516\\951862498.py:5: FutureWarning: \n",
      "\n",
      "The `ci` parameter is deprecated. Use `errorbar=None` for the same effect.\n",
      "\n",
      "  sns.pointplot(x='category', y='liking_ij', data=dat_sim, estimator=np.mean, ci=None, color='black')\n"
     ]
    },
    {
     "data": {
      "image/png": "[encoded data removed]",
      "text/plain": [
       "<Figure size 640x480 with 1 Axes>"
      ]
     },
     "metadata": {},
     "output_type": "display_data"
    }
   ],
   "source": [
    "palette = {'pop': 'orange', 'rock': 'dodgerblue'}\n",
    "\n",
    "# actual data\n",
    "sns.violinplot(x='category', y='liking_ij', data=dat_sim, palette=palette, inner=None, alpha=0.5)\n",
    "sns.pointplot(x='category', y='liking_ij', data=dat_sim, estimator=np.mean, ci=None, color='black')\n",
    "\n",
    "# predicted means\n",
    "plt.axhline(y=(beta_0 + 0*beta_1), color='orange', linestyle='dashed')\n",
    "plt.axhline(y=(beta_0 + 1*beta_1), color='dodgerblue', linestyle='dashed')\n",
    "\n",
    "plt.title(\"Predicted versus simulated values\")\n",
    "plt.show()"
   ]
  },
  {
   "cell_type": "markdown",
   "metadata": {},
   "source": [
    "## 5.2.4 Analyze the simulated data\n",
    "\n",
    "Now we can analyze our simulated data in a linear mixed effects model using the function mixedlm from the {statsmodels} package. The formula and vc_formula in mixedlm() map onto how we calculated our liking_ij outcome variable above. \n",
    "\n",
    "The terms in formula are as follows:\n",
    "liking_ij is the response.\n",
    "1 is the intercept (beta_0), which is the mean of the response for the pop genre of songs (because we used dummy coding for the genre_i term).\n",
    "genre_i is the dummy coded variable identifying whether song \\(i\\) belongs to the pop or rock genre.\n",
    "\n",
    "The terms in vc_formula are as follows:\n",
    "0 + C(song_id) specifies a song-specific random intercept (O_0i).\n",
    "0 + C(subj_id) specifies a subject-specific random intercept (T_0j).\n",
    "0 + C(subj_id):genre_i specifies the subject specific random slope of the genre category (T_1j).\n",
    "\n",
    "However, due to the inability of the function mixedlm(), the module did not indicate the correlation between subject-specific random intercept and the subject specific random slope of the genre category.\n",
    "\n",
    "Now we can estimate the model."
   ]
  },
  {
   "cell_type": "code",
   "execution_count": 12,
   "metadata": {},
   "outputs": [
    {
     "name": "stdout",
     "output_type": "stream",
     "text": [
      "         Mixed Linear Model Regression Results\n",
      "========================================================\n",
      "Model:            MixedLM Dependent Variable: liking_ij \n",
      "No. Observations: 750     Method:             REML      \n",
      "No. Groups:       1       Scale:              66.4110   \n",
      "Min. group size:  750     Log-Likelihood:     -2708.1155\n",
      "Max. group size:  750     Converged:          Yes       \n",
      "Mean group size:  750.0                                 \n",
      "--------------------------------------------------------\n",
      "              Coef.  Std.Err.   z    P>|z| [0.025 0.975]\n",
      "--------------------------------------------------------\n",
      "Intercept     58.078    1.494 38.873 0.000 55.150 61.007\n",
      "genre_i        5.505    1.631  3.376 0.001  2.309  8.701\n",
      "genre_i Var   22.355    1.106                           \n",
      "song_id Var   10.578    0.443                           \n",
      "subj_id Var   33.748    1.353                           \n",
      "========================================================\n",
      "\n"
     ]
    }
   ],
   "source": [
    "# fit a linear mixed-effects model to data\n",
    "form = 'liking_ij ~ 1 + genre_i'\n",
    "dat_sim['groups'] = 1\n",
    "vcf = {'song_id':'0 + C(song_id)', 'subj_id':'0 + C(subj_id)', 'genre_i': '0 + C(subj_id):genre_i'}\n",
    "model = smf.mixedlm(form, groups=dat_sim['groups'], vc_formula=vcf, re_formula='0', data=dat_sim)\n",
    "\n",
    "mod_sim = model.fit()\n",
    "print(mod_sim.summary())"
   ]
  },
  {
   "cell_type": "markdown",
   "metadata": {},
   "source": [
    "# 5.3 Data simulation automated"
   ]
  },
  {
   "cell_type": "markdown",
   "metadata": {},
   "source": [
    "Now that we’ve tested the data generating code, we can put it into a function so that it’s easy to run it repeatedly."
   ]
  },
  {
   "cell_type": "code",
   "execution_count": 13,
   "metadata": {},
   "outputs": [],
   "source": [
    "def sim_data(n_subj=25, n_pop=15, n_rock=15, beta_0=60, beta_1=5, omega_0=3, tau_0=7, tau_1=4, rho=0.2, sigma=8):\n",
    "    songs = pd.DataFrame({\n",
    "        'song_id': np.arange(n_pop + n_rock),\n",
    "        'category': np.repeat([\"pop\", \"rock\"], [n_pop, n_rock]),\n",
    "        'genre_i': np.repeat([0, 1], [n_pop, n_rock]),\n",
    "        'O_0i': np.random.normal(0, omega_0, n_pop + n_rock)\n",
    "    })\n",
    "\n",
    "    random_effects = np.random.multivariate_normal([0, 0], [[tau_0**2, rho*tau_0*tau_1], [rho*tau_0*tau_1, tau_1**2]], n_subj)\n",
    "    subjects = pd.DataFrame(random_effects, columns=['T_0j', 'T_1j'])\n",
    "    subjects['subj_id'] = np.arange(1, n_subj + 1)\n",
    "\n",
    "    trials = pd.merge(subjects, songs, how='cross')\n",
    "    trials['e_ij'] = np.random.normal(0, sigma, len(trials))\n",
    "    trials['liking_ij'] = beta_0 + trials['T_0j'] + trials['O_0i'] + (beta_1 + trials['T_1j']) * trials['genre_i'] + trials['e_ij']\n",
    "\n",
    "    return trials[['subj_id', 'song_id', 'category', 'genre_i', 'liking_ij']]"
   ]
  },
  {
   "cell_type": "markdown",
   "metadata": {},
   "source": [
    "# 5.4 Power calculation single run\n",
    "\n",
    "### 说明：此环节有一处与R语言不同：\n",
    "### 1. 没有设置过滤报警信息。"
   ]
  },
  {
   "cell_type": "markdown",
   "metadata": {},
   "source": [
    "We can wrap the data generating function and modeling code in a new function single_run() that returns a table of the analysis results for a single simulation run."
   ]
  },
  {
   "cell_type": "code",
   "execution_count": 14,
   "metadata": {},
   "outputs": [],
   "source": [
    "def single_run(n_subj=25, n_pop=15, n_rock=15, beta_0=60, beta_1=5, omega_0=3, tau_0=7, tau_1=4, rho=0.2, sigma=8):\n",
    "    dat_sim = sim_data(n_subj, n_pop, n_rock, beta_0, beta_1, omega_0, tau_0, tau_1, rho, sigma)\n",
    "    \n",
    "    dat_sim['groups'] = 1\n",
    "    mod_sim = smf.mixedlm('liking_ij ~ 1 + genre_i', groups=dat_sim['groups'], \n",
    "                          vc_formula={'song_id':'0 + C(song_id)', 'subj_id':'0 + C(subj_id)', 'genre_i': '0 + C(subj_id):genre_i'}, \n",
    "                          re_formula='0', data=dat_sim).fit()\n",
    "    \n",
    "    df = mod_sim.summary().tables[1]\n",
    "    df['p_value'] = mod_sim.pvalues\n",
    "    return df[['Coef.', 'Std.Err.', 'p_value']]"
   ]
  },
  {
   "cell_type": "markdown",
   "metadata": {},
   "source": [
    "Let’s test that our new single_run() function performs as expected."
   ]
  },
  {
   "cell_type": "code",
   "execution_count": 15,
   "metadata": {},
   "outputs": [
    {
     "data": {
      "text/html": [
       "<div>\n",
       "<style scoped>\n",
       "    .dataframe tbody tr th:only-of-type {\n",
       "        vertical-align: middle;\n",
       "    }\n",
       "\n",
       "    .dataframe tbody tr th {\n",
       "        vertical-align: top;\n",
       "    }\n",
       "\n",
       "    .dataframe thead th {\n",
       "        text-align: right;\n",
       "    }\n",
       "</style>\n",
       "<table border=\"1\" class=\"dataframe\">\n",
       "  <thead>\n",
       "    <tr style=\"text-align: right;\">\n",
       "      <th></th>\n",
       "      <th>Coef.</th>\n",
       "      <th>Std.Err.</th>\n",
       "      <th>p_value</th>\n",
       "    </tr>\n",
       "  </thead>\n",
       "  <tbody>\n",
       "    <tr>\n",
       "      <th>Intercept</th>\n",
       "      <td>62.364</td>\n",
       "      <td>1.620</td>\n",
       "      <td>0.000000</td>\n",
       "    </tr>\n",
       "    <tr>\n",
       "      <th>genre_i</th>\n",
       "      <td>1.794</td>\n",
       "      <td>1.454</td>\n",
       "      <td>0.217012</td>\n",
       "    </tr>\n",
       "    <tr>\n",
       "      <th>genre_i Var</th>\n",
       "      <td>15.056</td>\n",
       "      <td>0.854</td>\n",
       "      <td>0.027138</td>\n",
       "    </tr>\n",
       "    <tr>\n",
       "      <th>song_id Var</th>\n",
       "      <td>8.783</td>\n",
       "      <td>0.387</td>\n",
       "      <td>0.004477</td>\n",
       "    </tr>\n",
       "    <tr>\n",
       "      <th>subj_id Var</th>\n",
       "      <td>46.691</td>\n",
       "      <td>1.848</td>\n",
       "      <td>0.001541</td>\n",
       "    </tr>\n",
       "  </tbody>\n",
       "</table>\n",
       "</div>"
      ],
      "text/plain": [
       "              Coef. Std.Err.   p_value\n",
       "Intercept    62.364    1.620  0.000000\n",
       "genre_i       1.794    1.454  0.217012\n",
       "genre_i Var  15.056    0.854  0.027138\n",
       "song_id Var   8.783    0.387  0.004477\n",
       "subj_id Var  46.691    1.848  0.001541"
      ]
     },
     "execution_count": 15,
     "metadata": {},
     "output_type": "execute_result"
    }
   ],
   "source": [
    "# run one model with default parameters\n",
    "single_run()"
   ]
  },
  {
   "cell_type": "code",
   "execution_count": 16,
   "metadata": {},
   "outputs": [
    {
     "data": {
      "text/html": [
       "<div>\n",
       "<style scoped>\n",
       "    .dataframe tbody tr th:only-of-type {\n",
       "        vertical-align: middle;\n",
       "    }\n",
       "\n",
       "    .dataframe tbody tr th {\n",
       "        vertical-align: top;\n",
       "    }\n",
       "\n",
       "    .dataframe thead th {\n",
       "        text-align: right;\n",
       "    }\n",
       "</style>\n",
       "<table border=\"1\" class=\"dataframe\">\n",
       "  <thead>\n",
       "    <tr style=\"text-align: right;\">\n",
       "      <th></th>\n",
       "      <th>Coef.</th>\n",
       "      <th>Std.Err.</th>\n",
       "      <th>p_value</th>\n",
       "    </tr>\n",
       "  </thead>\n",
       "  <tbody>\n",
       "    <tr>\n",
       "      <th>Intercept</th>\n",
       "      <td>60.065</td>\n",
       "      <td>1.635</td>\n",
       "      <td>1.824465e-295</td>\n",
       "    </tr>\n",
       "    <tr>\n",
       "      <th>genre_i</th>\n",
       "      <td>2.934</td>\n",
       "      <td>1.308</td>\n",
       "      <td>2.494009e-02</td>\n",
       "    </tr>\n",
       "    <tr>\n",
       "      <th>genre_i Var</th>\n",
       "      <td>14.922</td>\n",
       "      <td>0.811</td>\n",
       "      <td>1.634819e-02</td>\n",
       "    </tr>\n",
       "    <tr>\n",
       "      <th>song_id Var</th>\n",
       "      <td>6.946</td>\n",
       "      <td>0.230</td>\n",
       "      <td>8.011783e-05</td>\n",
       "    </tr>\n",
       "    <tr>\n",
       "      <th>subj_id Var</th>\n",
       "      <td>43.595</td>\n",
       "      <td>1.826</td>\n",
       "      <td>1.830974e-03</td>\n",
       "    </tr>\n",
       "  </tbody>\n",
       "</table>\n",
       "</div>"
      ],
      "text/plain": [
       "              Coef. Std.Err.        p_value\n",
       "Intercept    60.065    1.635  1.824465e-295\n",
       "genre_i       2.934    1.308   2.494009e-02\n",
       "genre_i Var  14.922    0.811   1.634819e-02\n",
       "song_id Var   6.946    0.230   8.011783e-05\n",
       "subj_id Var  43.595    1.826   1.830974e-03"
      ]
     },
     "execution_count": 16,
     "metadata": {},
     "output_type": "execute_result"
    }
   ],
   "source": [
    "# run one model with new parameters\n",
    "single_run(n_pop = 10, n_rock = 50, beta_1 = 2)"
   ]
  },
  {
   "cell_type": "markdown",
   "metadata": {},
   "source": [
    "# 5.5 Power calculation automated\n",
    "\n",
    "### 说明：此环节有两处与R语言不同：\n",
    "### 1. R语言使用future_map_dfr()函数循环调用single_run()函数，Python直接使用自带的for语句进行循环；\n",
    "### 2. R语言在setup环节即设定了并行运算，而Python语言在此环节调用dask库进行并行运算：首先定义延迟版本的single_run()函数，在调用delayed_single_run()函数的时候，函数并不会立刻执行，因此可以很方便地使用for循环语句将需要执行的函数存入任务列表中，再调用dask.compute()函数并行计算列表内存储的任务。"
   ]
  },
  {
   "cell_type": "markdown",
   "metadata": {},
   "source": [
    "To get an accurate estimation of power, we need to run the simulation many times. Here we use the package dask to parallelize existing code to speed-up iterative processes. \n",
    "\n",
    "We use dask.delayed function to decorate single_run() so that it operates lazily, then call the delayed version repeatedly using for statement, and finally call dask.compute function to get the result of simulations."
   ]
  },
  {
   "cell_type": "code",
   "execution_count": 17,
   "metadata": {},
   "outputs": [],
   "source": [
    "client = Client()\n",
    "\n",
    "@dask.delayed\n",
    "def delayed_single_run(n_subj=25, n_pop=15, n_rock=15, beta_0=60, beta_1=5, omega_0=3, tau_0=7, tau_1=4, rho=0.2, sigma=8):\n",
    "    df = single_run(n_subj, n_pop, n_rock, beta_0, beta_1, omega_0, tau_0, tau_1, rho, sigma)\n",
    "    df = df.assign(n_subj=n_subj, n_pop=n_pop, n_rock=n_rock, beta_1=beta_1)\n",
    "    return df\n",
    "\n",
    "sims = [delayed_single_run() for _ in range(reps)]\n",
    "sims_result = dask.compute(*sims)\n",
    "\n",
    "sims_df = pd.concat(sims_result).reset_index().rename(columns={'index':'term'})"
   ]
  },
  {
   "cell_type": "markdown",
   "metadata": {},
   "source": [
    "We can finally calculate power for our parameter of interest beta_1(denoted in the model output table as the term genre_i) by filtering to keep only that term and the calculating the proportion of times the \\(p\\)-value is below the alpha (0.05) threshold."
   ]
  },
  {
   "cell_type": "code",
   "execution_count": 18,
   "metadata": {},
   "outputs": [
    {
     "name": "stdout",
     "output_type": "stream",
     "text": [
      "Mean estimate: 5.037033333333333\n",
      "Mean standard error: 1.4391333333333336\n",
      "Power: 1.0\n"
     ]
    }
   ],
   "source": [
    "genre_i_sims = sims_df[sims_df['term'] == 'genre_i']\n",
    "mean_estimate = genre_i_sims['Coef.'].astype(float).mean()\n",
    "mean_se = genre_i_sims['Std.Err.'].astype(float).mean()\n",
    "power = (genre_i_sims['p_value'].astype(float) < alpha).mean()\n",
    "\n",
    "print(f\"Mean estimate: {mean_estimate}\")\n",
    "print(f\"Mean standard error: {mean_se}\")\n",
    "print(f\"Power: {power}\")"
   ]
  },
  {
   "cell_type": "markdown",
   "metadata": {},
   "source": [
    "## 5.5.1 Check false positive rate\n",
    "\n",
    "We can do a sanity check to see if our simulation is performing as expected by checking the false positive rate (Type I error rate). We set the effect of genre_ij (beta_1) to 0 to calculate the false positive rate, which is the probability of concluding there is an effect when there is no actual effect in the population."
   ]
  },
  {
   "cell_type": "code",
   "execution_count": 19,
   "metadata": {},
   "outputs": [],
   "source": [
    "sims_fp = [delayed_single_run(beta_1=0) for _ in range(reps)]\n",
    "sims_fp_result = dask.compute(*sims_fp)\n",
    "\n",
    "sims_fp_df = pd.concat(sims_fp_result).reset_index().rename(columns={'index':'term'})"
   ]
  },
  {
   "cell_type": "code",
   "execution_count": 20,
   "metadata": {},
   "outputs": [
    {
     "data": {
      "text/plain": [
       "0.03333333333333333"
      ]
     },
     "execution_count": 20,
     "metadata": {},
     "output_type": "execute_result"
    }
   ],
   "source": [
    "(sims_fp_df[sims_fp_df['term'] == 'genre_i']['p_value'].astype(float) < alpha).mean()"
   ]
  },
  {
   "cell_type": "markdown",
   "metadata": {},
   "source": [
    "Ideally, the false positive rate will be equal to alpha, which we set at 0.05."
   ]
  },
  {
   "cell_type": "markdown",
   "metadata": {},
   "source": [
    "# 5.6 Power for different effect sizes\n",
    "\n",
    "### 说明：此环节有两处与R语言不同：\n",
    "### 1. R语言使用future_pmap_dfr()，将参数的各种排列组合传入函数进行运算，在Python语言中，使用product函数进行参数的排列组合，使用for循环将参数输入延迟版single_run函数，然后使用dask.compute执行并行计算；\n",
    "### 2. R语言定义了parameter_search()，函数可以实现参数各排列组合的单次模拟，尔后只需重复调用parameter_search()即可实现参数各排列组合的多次模拟，但是在Python语言中，parameter_search()函数已经调用了延迟版函数，不能再包装成延迟版函数，因此在进行参数各排列组合的多次模拟时，无法实现使用dask库重复调用parameter_search()，只能使用两层循环的方式来调用delayed_single_run()。"
   ]
  },
  {
   "cell_type": "markdown",
   "metadata": {},
   "source": [
    "In real life, we will not know the effect size of our quantity of interest and so we will need to repeatedly perform the power analysis over a range of different plausible effect sizes. Perhaps we might also want to calculate power as we vary other data-generating parameters, such as the number of pop and rock songs sampled and the number of subjects sampled. We can create a table that combines all combinations of the parameters we want to vary in a grid."
   ]
  },
  {
   "cell_type": "code",
   "execution_count": 21,
   "metadata": {},
   "outputs": [],
   "source": [
    "# grid of paramater values of interest\n",
    "params = {\n",
    "    'n_subj': [10, 50],\n",
    "    'n_pop': [10, 40],\n",
    "    'n_rock': [10, 40],\n",
    "    'beta_1': [1, 3, 5]\n",
    "}"
   ]
  },
  {
   "cell_type": "markdown",
   "metadata": {},
   "source": [
    "We can now wrap delayed_single_run() function within a more general function parameter_search() that takes the grid of parameter values as input and uses the for statement to iterate over each row of parameter values in pgrid and feed them into delayed_single_run()."
   ]
  },
  {
   "cell_type": "code",
   "execution_count": 22,
   "metadata": {},
   "outputs": [],
   "source": [
    "# fit the models over the parameters\n",
    "def parameter_search(params):\n",
    "    sims = []\n",
    "    pgrid = pd.DataFrame(list(product(*params.values())), columns=params.keys())\n",
    "\n",
    "    # iterate over the grid of parameter values\n",
    "    for _, row in pgrid.iterrows():\n",
    "        sims.append(delayed_single_run(\n",
    "            n_subj=row['n_subj'], # plug each row of parameter values into single_run()\n",
    "            n_pop=row['n_pop'],\n",
    "            n_rock=row['n_rock'],\n",
    "            beta_1=row['beta_1']\n",
    "        ))\n",
    "    return pd.concat(dask.compute(*sims)).reset_index().rename(columns={'index':'term'})"
   ]
  },
  {
   "cell_type": "markdown",
   "metadata": {},
   "source": [
    "If we call parameter_search() it will return a single replication of simulations for each combination of parameter values in pgrid."
   ]
  },
  {
   "cell_type": "code",
   "execution_count": 23,
   "metadata": {},
   "outputs": [
    {
     "data": {
      "text/html": [
       "<div>\n",
       "<style scoped>\n",
       "    .dataframe tbody tr th:only-of-type {\n",
       "        vertical-align: middle;\n",
       "    }\n",
       "\n",
       "    .dataframe tbody tr th {\n",
       "        vertical-align: top;\n",
       "    }\n",
       "\n",
       "    .dataframe thead th {\n",
       "        text-align: right;\n",
       "    }\n",
       "</style>\n",
       "<table border=\"1\" class=\"dataframe\">\n",
       "  <thead>\n",
       "    <tr style=\"text-align: right;\">\n",
       "      <th></th>\n",
       "      <th>term</th>\n",
       "      <th>Coef.</th>\n",
       "      <th>Std.Err.</th>\n",
       "      <th>p_value</th>\n",
       "      <th>n_subj</th>\n",
       "      <th>n_pop</th>\n",
       "      <th>n_rock</th>\n",
       "      <th>beta_1</th>\n",
       "    </tr>\n",
       "  </thead>\n",
       "  <tbody>\n",
       "    <tr>\n",
       "      <th>0</th>\n",
       "      <td>Intercept</td>\n",
       "      <td>60.099</td>\n",
       "      <td>2.753</td>\n",
       "      <td>1.166542e-105</td>\n",
       "      <td>10</td>\n",
       "      <td>10</td>\n",
       "      <td>10</td>\n",
       "      <td>1</td>\n",
       "    </tr>\n",
       "    <tr>\n",
       "      <th>1</th>\n",
       "      <td>genre_i</td>\n",
       "      <td>4.608</td>\n",
       "      <td>1.704</td>\n",
       "      <td>6.853703e-03</td>\n",
       "      <td>10</td>\n",
       "      <td>10</td>\n",
       "      <td>10</td>\n",
       "      <td>1</td>\n",
       "    </tr>\n",
       "    <tr>\n",
       "      <th>2</th>\n",
       "      <td>genre_i Var</td>\n",
       "      <td>6.625</td>\n",
       "      <td>3.579</td>\n",
       "      <td>8.106672e-01</td>\n",
       "      <td>10</td>\n",
       "      <td>10</td>\n",
       "      <td>10</td>\n",
       "      <td>1</td>\n",
       "    </tr>\n",
       "    <tr>\n",
       "      <th>3</th>\n",
       "      <td>song_id Var</td>\n",
       "      <td>5.240</td>\n",
       "      <td>0.412</td>\n",
       "      <td>9.966767e-02</td>\n",
       "      <td>10</td>\n",
       "      <td>10</td>\n",
       "      <td>10</td>\n",
       "      <td>1</td>\n",
       "    </tr>\n",
       "    <tr>\n",
       "      <th>4</th>\n",
       "      <td>subj_id Var</td>\n",
       "      <td>64.575</td>\n",
       "      <td>4.900</td>\n",
       "      <td>8.805737e-02</td>\n",
       "      <td>10</td>\n",
       "      <td>10</td>\n",
       "      <td>10</td>\n",
       "      <td>1</td>\n",
       "    </tr>\n",
       "    <tr>\n",
       "      <th>...</th>\n",
       "      <td>...</td>\n",
       "      <td>...</td>\n",
       "      <td>...</td>\n",
       "      <td>...</td>\n",
       "      <td>...</td>\n",
       "      <td>...</td>\n",
       "      <td>...</td>\n",
       "      <td>...</td>\n",
       "    </tr>\n",
       "    <tr>\n",
       "      <th>115</th>\n",
       "      <td>Intercept</td>\n",
       "      <td>60.654</td>\n",
       "      <td>1.219</td>\n",
       "      <td>0.000000e+00</td>\n",
       "      <td>50</td>\n",
       "      <td>40</td>\n",
       "      <td>40</td>\n",
       "      <td>5</td>\n",
       "    </tr>\n",
       "    <tr>\n",
       "      <th>116</th>\n",
       "      <td>genre_i</td>\n",
       "      <td>3.154</td>\n",
       "      <td>1.002</td>\n",
       "      <td>1.645671e-03</td>\n",
       "      <td>50</td>\n",
       "      <td>40</td>\n",
       "      <td>40</td>\n",
       "      <td>5</td>\n",
       "    </tr>\n",
       "    <tr>\n",
       "      <th>117</th>\n",
       "      <td>genre_i Var</td>\n",
       "      <td>16.425</td>\n",
       "      <td>0.493</td>\n",
       "      <td>4.036671e-05</td>\n",
       "      <td>50</td>\n",
       "      <td>40</td>\n",
       "      <td>40</td>\n",
       "      <td>5</td>\n",
       "    </tr>\n",
       "    <tr>\n",
       "      <th>118</th>\n",
       "      <td>song_id Var</td>\n",
       "      <td>12.187</td>\n",
       "      <td>0.269</td>\n",
       "      <td>2.429500e-08</td>\n",
       "      <td>50</td>\n",
       "      <td>40</td>\n",
       "      <td>40</td>\n",
       "      <td>5</td>\n",
       "    </tr>\n",
       "    <tr>\n",
       "      <th>119</th>\n",
       "      <td>subj_id Var</td>\n",
       "      <td>57.453</td>\n",
       "      <td>1.476</td>\n",
       "      <td>1.652002e-06</td>\n",
       "      <td>50</td>\n",
       "      <td>40</td>\n",
       "      <td>40</td>\n",
       "      <td>5</td>\n",
       "    </tr>\n",
       "  </tbody>\n",
       "</table>\n",
       "<p>120 rows × 8 columns</p>\n",
       "</div>"
      ],
      "text/plain": [
       "            term   Coef. Std.Err.        p_value  n_subj  n_pop  n_rock  \\\n",
       "0      Intercept  60.099    2.753  1.166542e-105      10     10      10   \n",
       "1        genre_i   4.608    1.704   6.853703e-03      10     10      10   \n",
       "2    genre_i Var   6.625    3.579   8.106672e-01      10     10      10   \n",
       "3    song_id Var   5.240    0.412   9.966767e-02      10     10      10   \n",
       "4    subj_id Var  64.575    4.900   8.805737e-02      10     10      10   \n",
       "..           ...     ...      ...            ...     ...    ...     ...   \n",
       "115    Intercept  60.654    1.219   0.000000e+00      50     40      40   \n",
       "116      genre_i   3.154    1.002   1.645671e-03      50     40      40   \n",
       "117  genre_i Var  16.425    0.493   4.036671e-05      50     40      40   \n",
       "118  song_id Var  12.187    0.269   2.429500e-08      50     40      40   \n",
       "119  subj_id Var  57.453    1.476   1.652002e-06      50     40      40   \n",
       "\n",
       "     beta_1  \n",
       "0         1  \n",
       "1         1  \n",
       "2         1  \n",
       "3         1  \n",
       "4         1  \n",
       "..      ...  \n",
       "115       5  \n",
       "116       5  \n",
       "117       5  \n",
       "118       5  \n",
       "119       5  \n",
       "\n",
       "[120 rows x 8 columns]"
      ]
     },
     "execution_count": 23,
     "metadata": {},
     "output_type": "execute_result"
    }
   ],
   "source": [
    "parameter_search(params)"
   ]
  },
  {
   "cell_type": "markdown",
   "metadata": {},
   "source": [
    "To run multiple replication of simulations for each combination of parameter values in pgrid, we can use the for statement to iterate over each row of parameter values in pgrid for the number of times specified by reps. Fair warning, this will take some time if you have set a high number of replications!"
   ]
  },
  {
   "cell_type": "code",
   "execution_count": 24,
   "metadata": {},
   "outputs": [
    {
     "data": {
      "text/html": [
       "<div>\n",
       "<style scoped>\n",
       "    .dataframe tbody tr th:only-of-type {\n",
       "        vertical-align: middle;\n",
       "    }\n",
       "\n",
       "    .dataframe tbody tr th {\n",
       "        vertical-align: top;\n",
       "    }\n",
       "\n",
       "    .dataframe thead th {\n",
       "        text-align: right;\n",
       "    }\n",
       "</style>\n",
       "<table border=\"1\" class=\"dataframe\">\n",
       "  <thead>\n",
       "    <tr style=\"text-align: right;\">\n",
       "      <th></th>\n",
       "      <th>term</th>\n",
       "      <th>Coef.</th>\n",
       "      <th>Std.Err.</th>\n",
       "      <th>p_value</th>\n",
       "      <th>n_subj</th>\n",
       "      <th>n_pop</th>\n",
       "      <th>n_rock</th>\n",
       "      <th>beta_1</th>\n",
       "    </tr>\n",
       "  </thead>\n",
       "  <tbody>\n",
       "    <tr>\n",
       "      <th>0</th>\n",
       "      <td>Intercept</td>\n",
       "      <td>58.053</td>\n",
       "      <td>2.838</td>\n",
       "      <td>5.511683e-93</td>\n",
       "      <td>10</td>\n",
       "      <td>10</td>\n",
       "      <td>10</td>\n",
       "      <td>1</td>\n",
       "    </tr>\n",
       "    <tr>\n",
       "      <th>1</th>\n",
       "      <td>genre_i</td>\n",
       "      <td>-2.281</td>\n",
       "      <td>1.947</td>\n",
       "      <td>2.414988e-01</td>\n",
       "      <td>10</td>\n",
       "      <td>10</td>\n",
       "      <td>10</td>\n",
       "      <td>1</td>\n",
       "    </tr>\n",
       "    <tr>\n",
       "      <th>2</th>\n",
       "      <td>genre_i Var</td>\n",
       "      <td>9.586</td>\n",
       "      <td>1.345</td>\n",
       "      <td>3.832907e-01</td>\n",
       "      <td>10</td>\n",
       "      <td>10</td>\n",
       "      <td>10</td>\n",
       "      <td>1</td>\n",
       "    </tr>\n",
       "    <tr>\n",
       "      <th>3</th>\n",
       "      <td>song_id Var</td>\n",
       "      <td>7.480</td>\n",
       "      <td>0.598</td>\n",
       "      <td>1.263574e-01</td>\n",
       "      <td>10</td>\n",
       "      <td>10</td>\n",
       "      <td>10</td>\n",
       "      <td>1</td>\n",
       "    </tr>\n",
       "    <tr>\n",
       "      <th>4</th>\n",
       "      <td>subj_id Var</td>\n",
       "      <td>66.386</td>\n",
       "      <td>4.240</td>\n",
       "      <td>5.554743e-02</td>\n",
       "      <td>10</td>\n",
       "      <td>10</td>\n",
       "      <td>10</td>\n",
       "      <td>1</td>\n",
       "    </tr>\n",
       "    <tr>\n",
       "      <th>...</th>\n",
       "      <td>...</td>\n",
       "      <td>...</td>\n",
       "      <td>...</td>\n",
       "      <td>...</td>\n",
       "      <td>...</td>\n",
       "      <td>...</td>\n",
       "      <td>...</td>\n",
       "      <td>...</td>\n",
       "    </tr>\n",
       "    <tr>\n",
       "      <th>3595</th>\n",
       "      <td>Intercept</td>\n",
       "      <td>60.772</td>\n",
       "      <td>1.196</td>\n",
       "      <td>0.000000e+00</td>\n",
       "      <td>50</td>\n",
       "      <td>40</td>\n",
       "      <td>40</td>\n",
       "      <td>5</td>\n",
       "    </tr>\n",
       "    <tr>\n",
       "      <th>3596</th>\n",
       "      <td>genre_i</td>\n",
       "      <td>3.238</td>\n",
       "      <td>1.051</td>\n",
       "      <td>2.062002e-03</td>\n",
       "      <td>50</td>\n",
       "      <td>40</td>\n",
       "      <td>40</td>\n",
       "      <td>5</td>\n",
       "    </tr>\n",
       "    <tr>\n",
       "      <th>3597</th>\n",
       "      <td>genre_i Var</td>\n",
       "      <td>26.370</td>\n",
       "      <td>0.961</td>\n",
       "      <td>5.941680e-04</td>\n",
       "      <td>50</td>\n",
       "      <td>40</td>\n",
       "      <td>40</td>\n",
       "      <td>5</td>\n",
       "    </tr>\n",
       "    <tr>\n",
       "      <th>3598</th>\n",
       "      <td>song_id Var</td>\n",
       "      <td>10.268</td>\n",
       "      <td>0.279</td>\n",
       "      <td>3.952983e-06</td>\n",
       "      <td>50</td>\n",
       "      <td>40</td>\n",
       "      <td>40</td>\n",
       "      <td>5</td>\n",
       "    </tr>\n",
       "    <tr>\n",
       "      <th>3599</th>\n",
       "      <td>subj_id Var</td>\n",
       "      <td>57.055</td>\n",
       "      <td>1.443</td>\n",
       "      <td>7.338545e-07</td>\n",
       "      <td>50</td>\n",
       "      <td>40</td>\n",
       "      <td>40</td>\n",
       "      <td>5</td>\n",
       "    </tr>\n",
       "  </tbody>\n",
       "</table>\n",
       "<p>3600 rows × 8 columns</p>\n",
       "</div>"
      ],
      "text/plain": [
       "             term   Coef. Std.Err.       p_value  n_subj  n_pop  n_rock  \\\n",
       "0       Intercept  58.053    2.838  5.511683e-93      10     10      10   \n",
       "1         genre_i  -2.281    1.947  2.414988e-01      10     10      10   \n",
       "2     genre_i Var   9.586    1.345  3.832907e-01      10     10      10   \n",
       "3     song_id Var   7.480    0.598  1.263574e-01      10     10      10   \n",
       "4     subj_id Var  66.386    4.240  5.554743e-02      10     10      10   \n",
       "...           ...     ...      ...           ...     ...    ...     ...   \n",
       "3595    Intercept  60.772    1.196  0.000000e+00      50     40      40   \n",
       "3596      genre_i   3.238    1.051  2.062002e-03      50     40      40   \n",
       "3597  genre_i Var  26.370    0.961  5.941680e-04      50     40      40   \n",
       "3598  song_id Var  10.268    0.279  3.952983e-06      50     40      40   \n",
       "3599  subj_id Var  57.055    1.443  7.338545e-07      50     40      40   \n",
       "\n",
       "      beta_1  \n",
       "0          1  \n",
       "1          1  \n",
       "2          1  \n",
       "3          1  \n",
       "4          1  \n",
       "...      ...  \n",
       "3595       5  \n",
       "3596       5  \n",
       "3597       5  \n",
       "3598       5  \n",
       "3599       5  \n",
       "\n",
       "[3600 rows x 8 columns]"
      ]
     },
     "execution_count": 24,
     "metadata": {},
     "output_type": "execute_result"
    }
   ],
   "source": [
    "sims_params = []\n",
    "pgrid = pd.DataFrame(list(product(*params.values())), columns=params.keys())\n",
    "\n",
    "for _ in range(reps):\n",
    "    for _, row in pgrid.iterrows():\n",
    "        sims_params.append(delayed_single_run(\n",
    "            n_subj=row['n_subj'],\n",
    "            n_pop=row['n_pop'],\n",
    "            n_rock=row['n_rock'],\n",
    "            beta_1=row['beta_1']\n",
    "        ))\n",
    "\n",
    "sims_params_result = dask.compute(*sims_params)\n",
    "\n",
    "sims_params_df = pd.concat(sims_params_result).reset_index().rename(columns={'index':'term'})\n",
    "sims_params_df"
   ]
  },
  {
   "cell_type": "markdown",
   "metadata": {},
   "source": [
    "Now, as before, we can calculate power. But this time we’ll group by all of the parameters we manipulated in pgrid, so that we can get power estimates for all combinations of parameter values."
   ]
  },
  {
   "cell_type": "code",
   "execution_count": 25,
   "metadata": {},
   "outputs": [],
   "source": [
    "sims_table = sims_params_df.query(\"term == 'genre_i'\").groupby(['term', 'n_subj', 'n_pop', 'n_rock', 'beta_1']).agg(\n",
    "    mean_estimate=pd.NamedAgg(column='Coef.', aggfunc=lambda x: x.astype(float).mean()),\n",
    "    mean_se=pd.NamedAgg(column='Std.Err.', aggfunc=lambda x: x.astype(float).mean()),\n",
    "    power=pd.NamedAgg(column='p_value', aggfunc=lambda x: (x.astype(float) < alpha).mean())\n",
    ").reset_index()"
   ]
  },
  {
   "cell_type": "markdown",
   "metadata": {},
   "source": [
    "Here's a formatted table that summarizes the output from the power simulation."
   ]
  },
  {
   "cell_type": "code",
   "execution_count": 26,
   "metadata": {},
   "outputs": [
    {
     "data": {
      "text/html": [
       "<div>\n",
       "<style scoped>\n",
       "    .dataframe tbody tr th:only-of-type {\n",
       "        vertical-align: middle;\n",
       "    }\n",
       "\n",
       "    .dataframe tbody tr th {\n",
       "        vertical-align: top;\n",
       "    }\n",
       "\n",
       "    .dataframe thead th {\n",
       "        text-align: right;\n",
       "    }\n",
       "</style>\n",
       "<table border=\"1\" class=\"dataframe\">\n",
       "  <thead>\n",
       "    <tr style=\"text-align: right;\">\n",
       "      <th></th>\n",
       "      <th>term</th>\n",
       "      <th>n_subj</th>\n",
       "      <th>n_pop</th>\n",
       "      <th>n_rock</th>\n",
       "      <th>beta_1</th>\n",
       "      <th>mean_estimate</th>\n",
       "      <th>mean_se</th>\n",
       "      <th>power</th>\n",
       "    </tr>\n",
       "  </thead>\n",
       "  <tbody>\n",
       "    <tr>\n",
       "      <th>0</th>\n",
       "      <td>genre_i</td>\n",
       "      <td>10</td>\n",
       "      <td>10</td>\n",
       "      <td>10</td>\n",
       "      <td>1</td>\n",
       "      <td>0.893933</td>\n",
       "      <td>2.185367</td>\n",
       "      <td>0.066667</td>\n",
       "    </tr>\n",
       "    <tr>\n",
       "      <th>1</th>\n",
       "      <td>genre_i</td>\n",
       "      <td>10</td>\n",
       "      <td>10</td>\n",
       "      <td>10</td>\n",
       "      <td>3</td>\n",
       "      <td>2.464867</td>\n",
       "      <td>2.346400</td>\n",
       "      <td>0.133333</td>\n",
       "    </tr>\n",
       "    <tr>\n",
       "      <th>2</th>\n",
       "      <td>genre_i</td>\n",
       "      <td>10</td>\n",
       "      <td>10</td>\n",
       "      <td>10</td>\n",
       "      <td>5</td>\n",
       "      <td>5.879133</td>\n",
       "      <td>2.286667</td>\n",
       "      <td>0.666667</td>\n",
       "    </tr>\n",
       "    <tr>\n",
       "      <th>3</th>\n",
       "      <td>genre_i</td>\n",
       "      <td>10</td>\n",
       "      <td>10</td>\n",
       "      <td>40</td>\n",
       "      <td>1</td>\n",
       "      <td>0.811833</td>\n",
       "      <td>2.192400</td>\n",
       "      <td>0.000000</td>\n",
       "    </tr>\n",
       "    <tr>\n",
       "      <th>4</th>\n",
       "      <td>genre_i</td>\n",
       "      <td>10</td>\n",
       "      <td>10</td>\n",
       "      <td>40</td>\n",
       "      <td>3</td>\n",
       "      <td>2.709033</td>\n",
       "      <td>2.160633</td>\n",
       "      <td>0.166667</td>\n",
       "    </tr>\n",
       "    <tr>\n",
       "      <th>5</th>\n",
       "      <td>genre_i</td>\n",
       "      <td>10</td>\n",
       "      <td>10</td>\n",
       "      <td>40</td>\n",
       "      <td>5</td>\n",
       "      <td>4.793833</td>\n",
       "      <td>2.228867</td>\n",
       "      <td>0.600000</td>\n",
       "    </tr>\n",
       "    <tr>\n",
       "      <th>6</th>\n",
       "      <td>genre_i</td>\n",
       "      <td>10</td>\n",
       "      <td>40</td>\n",
       "      <td>10</td>\n",
       "      <td>1</td>\n",
       "      <td>0.528000</td>\n",
       "      <td>2.230733</td>\n",
       "      <td>0.033333</td>\n",
       "    </tr>\n",
       "    <tr>\n",
       "      <th>7</th>\n",
       "      <td>genre_i</td>\n",
       "      <td>10</td>\n",
       "      <td>40</td>\n",
       "      <td>10</td>\n",
       "      <td>3</td>\n",
       "      <td>2.933533</td>\n",
       "      <td>2.246333</td>\n",
       "      <td>0.200000</td>\n",
       "    </tr>\n",
       "    <tr>\n",
       "      <th>8</th>\n",
       "      <td>genre_i</td>\n",
       "      <td>10</td>\n",
       "      <td>40</td>\n",
       "      <td>10</td>\n",
       "      <td>5</td>\n",
       "      <td>5.025333</td>\n",
       "      <td>2.263767</td>\n",
       "      <td>0.666667</td>\n",
       "    </tr>\n",
       "    <tr>\n",
       "      <th>9</th>\n",
       "      <td>genre_i</td>\n",
       "      <td>10</td>\n",
       "      <td>40</td>\n",
       "      <td>40</td>\n",
       "      <td>1</td>\n",
       "      <td>1.221400</td>\n",
       "      <td>1.917933</td>\n",
       "      <td>0.066667</td>\n",
       "    </tr>\n",
       "    <tr>\n",
       "      <th>10</th>\n",
       "      <td>genre_i</td>\n",
       "      <td>10</td>\n",
       "      <td>40</td>\n",
       "      <td>40</td>\n",
       "      <td>3</td>\n",
       "      <td>2.712067</td>\n",
       "      <td>1.880467</td>\n",
       "      <td>0.333333</td>\n",
       "    </tr>\n",
       "    <tr>\n",
       "      <th>11</th>\n",
       "      <td>genre_i</td>\n",
       "      <td>10</td>\n",
       "      <td>40</td>\n",
       "      <td>40</td>\n",
       "      <td>5</td>\n",
       "      <td>5.101767</td>\n",
       "      <td>2.047800</td>\n",
       "      <td>0.733333</td>\n",
       "    </tr>\n",
       "    <tr>\n",
       "      <th>12</th>\n",
       "      <td>genre_i</td>\n",
       "      <td>50</td>\n",
       "      <td>10</td>\n",
       "      <td>10</td>\n",
       "      <td>1</td>\n",
       "      <td>0.664800</td>\n",
       "      <td>1.569267</td>\n",
       "      <td>0.033333</td>\n",
       "    </tr>\n",
       "    <tr>\n",
       "      <th>13</th>\n",
       "      <td>genre_i</td>\n",
       "      <td>50</td>\n",
       "      <td>10</td>\n",
       "      <td>10</td>\n",
       "      <td>3</td>\n",
       "      <td>3.053067</td>\n",
       "      <td>1.515800</td>\n",
       "      <td>0.400000</td>\n",
       "    </tr>\n",
       "    <tr>\n",
       "      <th>14</th>\n",
       "      <td>genre_i</td>\n",
       "      <td>50</td>\n",
       "      <td>10</td>\n",
       "      <td>10</td>\n",
       "      <td>5</td>\n",
       "      <td>5.481333</td>\n",
       "      <td>1.514900</td>\n",
       "      <td>0.966667</td>\n",
       "    </tr>\n",
       "    <tr>\n",
       "      <th>15</th>\n",
       "      <td>genre_i</td>\n",
       "      <td>50</td>\n",
       "      <td>10</td>\n",
       "      <td>40</td>\n",
       "      <td>1</td>\n",
       "      <td>0.926133</td>\n",
       "      <td>1.319233</td>\n",
       "      <td>0.066667</td>\n",
       "    </tr>\n",
       "    <tr>\n",
       "      <th>16</th>\n",
       "      <td>genre_i</td>\n",
       "      <td>50</td>\n",
       "      <td>10</td>\n",
       "      <td>40</td>\n",
       "      <td>3</td>\n",
       "      <td>3.425200</td>\n",
       "      <td>1.452933</td>\n",
       "      <td>0.700000</td>\n",
       "    </tr>\n",
       "    <tr>\n",
       "      <th>17</th>\n",
       "      <td>genre_i</td>\n",
       "      <td>50</td>\n",
       "      <td>10</td>\n",
       "      <td>40</td>\n",
       "      <td>5</td>\n",
       "      <td>5.503767</td>\n",
       "      <td>1.414500</td>\n",
       "      <td>0.966667</td>\n",
       "    </tr>\n",
       "    <tr>\n",
       "      <th>18</th>\n",
       "      <td>genre_i</td>\n",
       "      <td>50</td>\n",
       "      <td>40</td>\n",
       "      <td>10</td>\n",
       "      <td>1</td>\n",
       "      <td>1.278200</td>\n",
       "      <td>1.425733</td>\n",
       "      <td>0.233333</td>\n",
       "    </tr>\n",
       "    <tr>\n",
       "      <th>19</th>\n",
       "      <td>genre_i</td>\n",
       "      <td>50</td>\n",
       "      <td>40</td>\n",
       "      <td>10</td>\n",
       "      <td>3</td>\n",
       "      <td>3.150900</td>\n",
       "      <td>1.375400</td>\n",
       "      <td>0.600000</td>\n",
       "    </tr>\n",
       "    <tr>\n",
       "      <th>20</th>\n",
       "      <td>genre_i</td>\n",
       "      <td>50</td>\n",
       "      <td>40</td>\n",
       "      <td>10</td>\n",
       "      <td>5</td>\n",
       "      <td>5.125233</td>\n",
       "      <td>1.439700</td>\n",
       "      <td>0.966667</td>\n",
       "    </tr>\n",
       "    <tr>\n",
       "      <th>21</th>\n",
       "      <td>genre_i</td>\n",
       "      <td>50</td>\n",
       "      <td>40</td>\n",
       "      <td>40</td>\n",
       "      <td>1</td>\n",
       "      <td>1.014733</td>\n",
       "      <td>0.972267</td>\n",
       "      <td>0.133333</td>\n",
       "    </tr>\n",
       "    <tr>\n",
       "      <th>22</th>\n",
       "      <td>genre_i</td>\n",
       "      <td>50</td>\n",
       "      <td>40</td>\n",
       "      <td>40</td>\n",
       "      <td>3</td>\n",
       "      <td>3.216500</td>\n",
       "      <td>0.990133</td>\n",
       "      <td>0.866667</td>\n",
       "    </tr>\n",
       "    <tr>\n",
       "      <th>23</th>\n",
       "      <td>genre_i</td>\n",
       "      <td>50</td>\n",
       "      <td>40</td>\n",
       "      <td>40</td>\n",
       "      <td>5</td>\n",
       "      <td>4.689100</td>\n",
       "      <td>0.995067</td>\n",
       "      <td>1.000000</td>\n",
       "    </tr>\n",
       "  </tbody>\n",
       "</table>\n",
       "</div>"
      ],
      "text/plain": [
       "       term  n_subj  n_pop  n_rock  beta_1  mean_estimate   mean_se     power\n",
       "0   genre_i      10     10      10       1       0.893933  2.185367  0.066667\n",
       "1   genre_i      10     10      10       3       2.464867  2.346400  0.133333\n",
       "2   genre_i      10     10      10       5       5.879133  2.286667  0.666667\n",
       "3   genre_i      10     10      40       1       0.811833  2.192400  0.000000\n",
       "4   genre_i      10     10      40       3       2.709033  2.160633  0.166667\n",
       "5   genre_i      10     10      40       5       4.793833  2.228867  0.600000\n",
       "6   genre_i      10     40      10       1       0.528000  2.230733  0.033333\n",
       "7   genre_i      10     40      10       3       2.933533  2.246333  0.200000\n",
       "8   genre_i      10     40      10       5       5.025333  2.263767  0.666667\n",
       "9   genre_i      10     40      40       1       1.221400  1.917933  0.066667\n",
       "10  genre_i      10     40      40       3       2.712067  1.880467  0.333333\n",
       "11  genre_i      10     40      40       5       5.101767  2.047800  0.733333\n",
       "12  genre_i      50     10      10       1       0.664800  1.569267  0.033333\n",
       "13  genre_i      50     10      10       3       3.053067  1.515800  0.400000\n",
       "14  genre_i      50     10      10       5       5.481333  1.514900  0.966667\n",
       "15  genre_i      50     10      40       1       0.926133  1.319233  0.066667\n",
       "16  genre_i      50     10      40       3       3.425200  1.452933  0.700000\n",
       "17  genre_i      50     10      40       5       5.503767  1.414500  0.966667\n",
       "18  genre_i      50     40      10       1       1.278200  1.425733  0.233333\n",
       "19  genre_i      50     40      10       3       3.150900  1.375400  0.600000\n",
       "20  genre_i      50     40      10       5       5.125233  1.439700  0.966667\n",
       "21  genre_i      50     40      40       1       1.014733  0.972267  0.133333\n",
       "22  genre_i      50     40      40       3       3.216500  0.990133  0.866667\n",
       "23  genre_i      50     40      40       5       4.689100  0.995067  1.000000"
      ]
     },
     "execution_count": 26,
     "metadata": {},
     "output_type": "execute_result"
    }
   ],
   "source": [
    "sims_table"
   ]
  },
  {
   "cell_type": "markdown",
   "metadata": {},
   "source": [
    "Here’s a graph that visualizes the output of the power simulation."
   ]
  },
  {
   "cell_type": "code",
   "execution_count": 27,
   "metadata": {},
   "outputs": [
    {
     "data": {
      "image/png": "[encoded data removed]",
      "text/plain": [
       "<Figure size 1200x800 with 4 Axes>"
      ]
     },
     "metadata": {},
     "output_type": "display_data"
    }
   ],
   "source": [
    "# 转换数据类型并修改标签\n",
    "sims_table['n_subj'] = sims_table['n_subj'].astype(str)\n",
    "sims_table['n_pop'] = 'n_pop: ' + sims_table['n_pop'].astype(str)\n",
    "sims_table['n_rock'] = 'n_rock: ' + sims_table['n_rock'].astype(str)\n",
    "\n",
    "# 创建子图\n",
    "fig, axes = plt.subplots(len(sims_table['n_pop'].unique()), len(sims_table['n_rock'].unique()), figsize=(12, 8), sharex=True, sharey=True)\n",
    "axes = axes.flatten()\n",
    "\n",
    "# 绘制子图\n",
    "for i, (pop, rock) in enumerate(sims_table.groupby(['n_pop', 'n_rock'])):\n",
    "    ax = axes[i]\n",
    "    sns.lineplot(data=rock, x='mean_estimate', y='power', hue='n_subj', style='n_subj', markers=True, ax=ax)\n",
    "    ax.axhline(y=0.8, linestyle='dashed', linewidth=0.5)\n",
    "    # ax.set_title(f'{pop} x {rock}')\n",
    "    ax.set_xlabel('Effect size (rock genre - pop genre)')\n",
    "    ax.set_ylabel('Power')\n",
    "    ax.set_ylim(0, 1)\n",
    "    ax.legend(title='Sample size')\n",
    "\n",
    "# 调整图表布局\n",
    "plt.tight_layout()\n",
    "\n",
    "# 显示图表\n",
    "plt.show()"
   ]
  }
 ],
 "metadata": {
  "kernelspec": {
   "display_name": "Python 3 (ipykernel)",
   "language": "python",
   "name": "python3"
  },
  "language_info": {
   "codemirror_mode": {
    "name": "ipython",
    "version": 3
   },
   "file_extension": ".py",
   "mimetype": "text/x-python",
   "name": "python",
   "nbconvert_exporter": "python",
   "pygments_lexer": "ipython3",
   "version": "3.10.9"
  }
 },
 "nbformat": 4,
 "nbformat_minor": 2
}
